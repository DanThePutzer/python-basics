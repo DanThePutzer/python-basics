{
 "cells": [
  {
   "cell_type": "code",
   "execution_count": 1,
   "metadata": {},
   "outputs": [],
   "source": [
    "# Importing libraries\n",
    "import numpy as np\n",
    "import matplotlib.pyplot as plt"
   ]
  },
  {
   "cell_type": "code",
   "execution_count": 2,
   "metadata": {},
   "outputs": [],
   "source": [
    "# Load data from dataset\n",
    "\n",
    "# exams: 100x3\n",
    "exams = np.loadtxt('datasets/exams.txt', delimiter=\",\")\n",
    "\n",
    "# X_data: 100x2, X: 100x3\n",
    "X_data = np.array(exams[:, :2])\n",
    "X = np.insert(X_data,0,1,axis=1)\n",
    "\n",
    "# y: 100x1\n",
    "y = np.array(exams[:, 2][np.newaxis]).T"
   ]
  },
  {
   "cell_type": "code",
   "execution_count": 3,
   "metadata": {},
   "outputs": [
    {
     "data": {
      "text/plain": [
       "<matplotlib.legend.Legend at 0x11de3fe48>"
      ]
     },
     "execution_count": 3,
     "metadata": {},
     "output_type": "execute_result"
    },
    {
     "data": {
      "image/png": "[encoded data removed]",
      "text/plain": [
       "<Figure size 432x288 with 1 Axes>"
      ]
     },
     "metadata": {
      "needs_background": "light"
     },
     "output_type": "display_data"
    }
   ],
   "source": [
    "# Filter for 1 and 0 values\n",
    "positive = np.where(exams[:, 2] > 0);\n",
    "negative = np.where(exams[:, 2] < 1);\n",
    "\n",
    "# Visualize data\n",
    "plt.figure(1)\n",
    "plt.scatter(exams[positive, 0], exams[positive, 1], marker='.', label='Passed')\n",
    "plt.scatter(exams[negative, 0], exams[negative, 1], marker='.', label='Failed')\n",
    "plt.xlabel('Exam 1 Result')\n",
    "plt.ylabel('Exam 2 Result')\n",
    "plt.legend()"
   ]
  },
  {
   "cell_type": "code",
   "execution_count": 4,
   "metadata": {},
   "outputs": [],
   "source": [
    "# Defining important Variables\n",
    "\n",
    "# Theta: 1x3\n",
    "Theta = np.array([0,0,0])[np.newaxis].T\n",
    "m = X.shape[0]\n",
    "alpha = 0.01\n",
    "lamb = 3\n",
    "iterations = 1500\n",
    "\n",
    "# Initializing cost_development to track progress\n",
    "cost_development = np.zeros((iterations, 1))"
   ]
  },
  {
   "cell_type": "code",
   "execution_count": 5,
   "metadata": {},
   "outputs": [],
   "source": [
    "# Defining Sigmoid function\n",
    "def sigmoid(z):\n",
    "    return 1/(1 + np.exp(-z))"
   ]
  },
  {
   "cell_type": "code",
   "execution_count": 24,
   "metadata": {},
   "outputs": [
    {
     "data": {
      "text/plain": [
       "0.6931471805599453"
      ]
     },
     "execution_count": 24,
     "metadata": {},
     "output_type": "execute_result"
    }
   ],
   "source": [
    "# Defining cost function\n",
    "def cost(X, y, Theta, lamb, m):\n",
    "    z = np.dot(X, Theta)\n",
    "    h = sigmoid(z)\n",
    "    J = np.dot((1/m), (-y * np.log(h) - (1 - y) * np.log(1 - h)).sum())\n",
    "    reg = lamb/(2*m) * Theta[:, :2].sum()\n",
    "    return J + reg\n",
    "    \n",
    "cost(X, y, Theta, lamb, m)"
   ]
  },
  {
   "cell_type": "code",
   "execution_count": 25,
   "metadata": {},
   "outputs": [],
   "source": [
    "# Performing gradient descent\n",
    "def grad_descent(X, y, m, alpha, Theta, iterations):\n",
    "    for i in range(iterations):\n",
    "        z = np.dot(X, Theta)\n",
    "        h = sigmoid(z)\n",
    "        Theta = Theta - alpha * np.dot(alpha, np.dot((h - y).T, X)).T\n",
    "        cost_development[i] = [cost(X, y, Theta, lamb, m)]\n",
    "    return Theta"
   ]
  },
  {
   "cell_type": "code",
   "execution_count": 26,
   "metadata": {},
   "outputs": [
    {
     "name": "stderr",
     "output_type": "stream",
     "text": [
      "/Users/dan/miniconda3/envs/ml/lib/python3.7/site-packages/ipykernel_launcher.py:5: RuntimeWarning: divide by zero encountered in log\n",
      "  \"\"\"\n",
      "/Users/dan/miniconda3/envs/ml/lib/python3.7/site-packages/ipykernel_launcher.py:5: RuntimeWarning: invalid value encountered in multiply\n",
      "  \"\"\"\n"
     ]
    },
    {
     "data": {
      "text/plain": [
       "array([[-1.14871686],\n",
       "       [ 0.56980921],\n",
       "       [ 0.11139426]])"
      ]
     },
     "execution_count": 26,
     "metadata": {},
     "output_type": "execute_result"
    }
   ],
   "source": [
    "grad_descent(X, y, m, alpha, Theta, iterations)"
   ]
  },
  {
   "cell_type": "code",
   "execution_count": null,
   "metadata": {},
   "outputs": [],
   "source": []
  }
 ],
 "metadata": {
  "kernelspec": {
   "display_name": "Python 3",
   "language": "python",
   "name": "python3"
  },
  "language_info": {
   "codemirror_mode": {
    "name": "ipython",
    "version": 3
   },
   "file_extension": ".py",
   "mimetype": "text/x-python",
   "name": "python",
   "nbconvert_exporter": "python",
   "pygments_lexer": "ipython3",
   "version": "3.7.0"
  }
 },
 "nbformat": 4,
 "nbformat_minor": 2
}
