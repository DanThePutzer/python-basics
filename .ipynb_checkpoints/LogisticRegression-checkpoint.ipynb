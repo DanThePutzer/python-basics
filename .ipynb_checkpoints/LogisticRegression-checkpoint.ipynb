{
 "cells": [
  {
   "cell_type": "code",
   "execution_count": 1,
   "metadata": {},
   "outputs": [],
   "source": [
    "# Importing librariers\n",
    "import numpy as np\n",
    "import matplotlib.pyplot as plt\n",
    "from scipy.optimize import minimize as mmz"
   ]
  },
  {
   "cell_type": "code",
   "execution_count": 2,
   "metadata": {},
   "outputs": [],
   "source": [
    "# Loading student exam data\n",
    "exams = np.loadtxt('datasets/exams.txt', delimiter=',', usecols=None)"
   ]
  },
  {
   "cell_type": "code",
   "execution_count": 3,
   "metadata": {},
   "outputs": [
    {
     "data": {
      "image/png": "[encoded data removed]",
      "text/plain": [
       "<Figure size 432x288 with 1 Axes>"
      ]
     },
     "metadata": {
      "needs_background": "light"
     },
     "output_type": "display_data"
    }
   ],
   "source": [
    "# Separating positive and negative exam results\n",
    "positive = np.where(exams[:,2] > 0)\n",
    "negative = np.where(exams[:,2] <= 0)\n",
    "\n",
    "# Plotting results\n",
    "plt.figure(1)\n",
    "plt.scatter(exams[positive,0], exams[positive,1], marker='.', color='r',label='Admitted')\n",
    "plt.scatter(exams[negative,0], exams[negative,1], marker='.', color='b',label='Failed')\n",
    "plt.xlabel('Exam 1 score')\n",
    "plt.ylabel('Exam 2 score')\n",
    "plt.legend()\n",
    "plt.grid(True)"
   ]
  },
  {
   "cell_type": "code",
   "execution_count": 4,
   "metadata": {},
   "outputs": [],
   "source": [
    "# Defining important variables\n",
    "m = exams.shape[0]\n",
    "X = np.insert(exams[:,0:2], 0, 1, axis = 1)\n",
    "y = np.array(exams[:,2])[np.newaxis].T\n",
    "Theta = np.zeros((1,X.shape[1]))\n",
    "initialTheta = np.zeros(3)\n",
    "iterations = 1500\n",
    "lam = 3\n",
    "alpha = 0.01"
   ]
  },
  {
   "cell_type": "code",
   "execution_count": 5,
   "metadata": {},
   "outputs": [],
   "source": [
    "# Defining sigmoid function h\n",
    "def sigmoid(X, Theta):\n",
    "    h = 1/(1+np.exp(-np.dot(X, Theta.T)))\n",
    "    return h"
   ]
  },
  {
   "cell_type": "code",
   "execution_count": 6,
   "metadata": {},
   "outputs": [],
   "source": [
    "# Calculating cost\n",
    "def cost(m, X, y, Theta):\n",
    "    J = np.multiply((1/m), (-y * np.log(sigmoid(X, Theta)) - (1 - y) * np.log(1 - sigmoid(X, Theta))).sum())\n",
    "    return J"
   ]
  },
  {
   "cell_type": "code",
   "execution_count": 7,
   "metadata": {},
   "outputs": [
    {
     "data": {
      "text/plain": [
       "0.6931471805519454"
      ]
     },
     "execution_count": 7,
     "metadata": {},
     "output_type": "execute_result"
    }
   ],
   "source": [
    "# Calculating regularized cost\n",
    "def cost_reg(m, X, y, Theta, lam):\n",
    "    J = np.multiply((1/m), (-y * np.log(sigmoid(X, Theta)) - (1 - y) * np.log(1.00000000001 - sigmoid(X, Theta))).sum())\n",
    "    reg = (lam/m * Theta[0,1:3]).sum()\n",
    "    J = J + reg\n",
    "    return J\n",
    "\n",
    "cost_reg(m, X, y, Theta, lam)"
   ]
  },
  {
   "cell_type": "code",
   "execution_count": 8,
   "metadata": {},
   "outputs": [],
   "source": [
    "# Calculating gradient\n",
    "def gradient(m, X, y, Theta):\n",
    "    grad = 1/m * np.dot(X.T, (sigmoid(X,Theta) - y))\n",
    "    return grad"
   ]
  },
  {
   "cell_type": "code",
   "execution_count": 9,
   "metadata": {},
   "outputs": [],
   "source": [
    "# Running gradient and cost throught optimization function\n",
    "# mmz(fun=cost_reg(m, X, y, Theta, lam), x0=initialTheta, args=(X, y), method='BFGS', jac=gradient(m, X, y, Theta, lam))"
   ]
  },
  {
   "cell_type": "code",
   "execution_count": 11,
   "metadata": {},
   "outputs": [
    {
     "data": {
      "image/png": "[encoded data removed]",
      "text/plain": [
       "<Figure size 432x288 with 1 Axes>"
      ]
     },
     "metadata": {
      "needs_background": "light"
     },
     "output_type": "display_data"
    }
   ],
   "source": [
    "# Creating empty array to keep track of cost development\n",
    "cost_development = np.zeros((iterations, 1))\n",
    "\n",
    "# Gradient descent (manual)\n",
    "def grad_descent(m, X, y, Theta, lam, iterations):\n",
    "    for i in range(iterations):\n",
    "        h = (sigmoid(X, Theta) - y) * X\n",
    "        reg = lam/m * np.array(Theta[0,1:3])[np.newaxis]\n",
    "        reg = np.insert(reg, 0, 0, axis = 1)\n",
    "        Theta = Theta - 1/m * np.multiply(alpha, h).sum() + reg\n",
    "        cost_development[0] = [cost_reg(m, X, y, Theta, lam)]\n",
    "        plt.plot(cost_development)\n",
    "    return Theta\n",
    "    \n",
    "Theta = grad_descent(m, X, y, Theta, lam, iterations)"
   ]
  },
  {
   "cell_type": "code",
   "execution_count": 13,
   "metadata": {},
   "outputs": [
    {
     "data": {
      "text/plain": [
       "array([[-34.29096094,   0.1729166 ,   0.1729166 ]])"
      ]
     },
     "execution_count": 13,
     "metadata": {},
     "output_type": "execute_result"
    }
   ],
   "source": [
    "Theta"
   ]
  },
  {
   "cell_type": "code",
   "execution_count": null,
   "metadata": {},
   "outputs": [],
   "source": []
  }
 ],
 "metadata": {
  "kernelspec": {
   "display_name": "Python 3",
   "language": "python",
   "name": "python3"
  },
  "language_info": {
   "codemirror_mode": {
    "name": "ipython",
    "version": 3
   },
   "file_extension": ".py",
   "mimetype": "text/x-python",
   "name": "python",
   "nbconvert_exporter": "python",
   "pygments_lexer": "ipython3",
   "version": "3.7.0"
  }
 },
 "nbformat": 4,
 "nbformat_minor": 2
}
