{
 "cells": [
  {
   "cell_type": "code",
   "execution_count": 1,
   "metadata": {},
   "outputs": [],
   "source": [
    "# Importing librariers\n",
    "import numpy as np\n",
    "import matplotlib.pyplot as plt\n",
    "from scipy.optimize import minimize as mmz"
   ]
  },
  {
   "cell_type": "code",
   "execution_count": 2,
   "metadata": {},
   "outputs": [],
   "source": [
    "# Loading student exam data\n",
    "exams = np.loadtxt('datasets/exams.txt', delimiter=',', usecols=None)"
   ]
  },
  {
   "cell_type": "code",
   "execution_count": 3,
   "metadata": {},
   "outputs": [
    {
     "data": {
      "image/png": "[encoded data removed]",
      "text/plain": [
       "<Figure size 432x288 with 1 Axes>"
      ]
     },
     "metadata": {
      "needs_background": "light"
     },
     "output_type": "display_data"
    }
   ],
   "source": [
    "# Separating positive and negative exam results\n",
    "positive = np.where(exams[:,2] > 0)\n",
    "negative = np.where(exams[:,2] <= 0)\n",
    "\n",
    "# Plotting results\n",
    "plt.figure(1)\n",
    "plt.scatter(exams[positive,0], exams[positive,1], marker='.', color='r',label='Admitted')\n",
    "plt.scatter(exams[negative,0], exams[negative,1], marker='.', color='b',label='Failed')\n",
    "plt.xlabel('Exam 1 score')\n",
    "plt.ylabel('Exam 2 score')\n",
    "plt.legend()\n",
    "plt.grid(True)"
   ]
  },
  {
   "cell_type": "code",
   "execution_count": 4,
   "metadata": {},
   "outputs": [],
   "source": [
    "# Defining important variables\n",
    "m = exams.shape[0]\n",
    "X = np.insert(exams[:,0:2], 0, 1, axis = 1)\n",
    "y = np.array(exams[:,2])[np.newaxis].T\n",
    "Theta = np.zeros((1,X.shape[1]))\n",
    "initialTheta = np.zeros(3)\n",
    "iterations = 1500\n",
    "lam = 3\n",
    "alpha = 0.01"
   ]
  },
  {
   "cell_type": "code",
   "execution_count": 5,
   "metadata": {},
   "outputs": [],
   "source": [
    "# Defining sigmoid function h\n",
    "def sigmoid(X, Theta):\n",
    "    h = 1/(1+np.exp(-np.dot(X, Theta.T)))\n",
    "    return h"
   ]
  },
  {
   "cell_type": "code",
   "execution_count": 6,
   "metadata": {},
   "outputs": [],
   "source": [
    "# Calculating cost\n",
    "def cost(m, X, y, Theta):\n",
    "    J = np.multiply((1/m), (-y * np.log(sigmoid(X, Theta)) - (1 - y) * np.log(1 - sigmoid(X, Theta))).sum())\n",
    "    return J"
   ]
  },
  {
   "cell_type": "code",
   "execution_count": 7,
   "metadata": {},
   "outputs": [
    {
     "data": {
      "text/plain": [
       "0.6931471805519454"
      ]
     },
     "execution_count": 7,
     "metadata": {},
     "output_type": "execute_result"
    }
   ],
   "source": [
    "# Calculating regularized cost\n",
    "def cost_reg(m, X, y, Theta, lam):\n",
    "    J = np.multiply((1/m), (-y * np.log(sigmoid(X, Theta)) - (1 - y) * np.log(1.00000000001 - sigmoid(X, Theta))).sum())\n",
    "    reg = (lam/m * Theta[0,1:3]).sum()\n",
    "    J = J + reg\n",
    "    return J\n",
    "\n",
    "cost_reg(m, X, y, Theta, lam)"
   ]
  },
  {
   "cell_type": "code",
   "execution_count": null,
   "metadata": {},
   "outputs": [],
   "source": []
  },
  {
   "cell_type": "code",
   "execution_count": 8,
   "metadata": {},
   "outputs": [
    {
     "data": {
      "text/plain": [
       "array([[ -0.1       ],\n",
       "       [-12.00921659],\n",
       "       [-11.26284221]])"
      ]
     },
     "execution_count": 8,
     "metadata": {},
     "output_type": "execute_result"
    }
   ],
   "source": [
    "# Calculating gradient\n",
    "def gradient(m, X, y, Theta):\n",
    "    grad = 1/m * np.dot(X.T, (sigmoid(X,Theta) - y))\n",
    "    #gradient = np.dot(X.T, (h - y)) / y.shape[0]\n",
    "    return grad\n",
    "\n",
    "gradient(m, X, y, Theta)"
   ]
  },
  {
   "cell_type": "code",
   "execution_count": 9,
   "metadata": {},
   "outputs": [],
   "source": [
    "for i in range(1500):\n",
    "    Theta = Theta - alpha * gradient(m, X, y, Theta)"
   ]
  },
  {
   "cell_type": "code",
   "execution_count": 10,
   "metadata": {},
   "outputs": [
    {
     "data": {
      "text/plain": [
       "array([[   6.08306802,   -4.78102958,    3.23358396],\n",
       "       [ 549.49522809, -205.58424647,  386.05634001],\n",
       "       [ 437.35599902, -276.81593325,  226.29399394]])"
      ]
     },
     "execution_count": 10,
     "metadata": {},
     "output_type": "execute_result"
    }
   ],
   "source": [
    "Theta"
   ]
  },
  {
   "cell_type": "code",
   "execution_count": 11,
   "metadata": {},
   "outputs": [],
   "source": [
    "# Running gradient and cost throught optimization function\n",
    "# mmz(fun=cost_reg(m, X, y, Theta, lam), x0=initialTheta, args=(X, y), method='BFGS', jac=gradient(m, X, y, Theta, lam))"
   ]
  },
  {
   "cell_type": "code",
   "execution_count": 12,
   "metadata": {},
   "outputs": [
    {
     "name": "stdout",
     "output_type": "stream",
     "text": [
      "[[   6.08306802   -4.78102958    3.23358396]\n",
      " [ 549.49522809 -205.58424647  386.05634001]\n",
      " [ 437.35599902 -276.81593325  226.29399394]] nan\n",
      "[[   6.10983391   -4.75426369    3.26034985]\n",
      " [ 549.52199398 -205.55748058  386.0831059 ]\n",
      " [ 437.38276491 -276.78916736  226.32075983]] nan\n"
     ]
    },
    {
     "name": "stderr",
     "output_type": "stream",
     "text": [
      "/Users/dan/miniconda3/envs/ml/lib/python3.7/site-packages/ipykernel_launcher.py:3: RuntimeWarning: divide by zero encountered in log\n",
      "  This is separate from the ipykernel package so we can avoid doing imports until\n",
      "/Users/dan/miniconda3/envs/ml/lib/python3.7/site-packages/ipykernel_launcher.py:3: RuntimeWarning: invalid value encountered in multiply\n",
      "  This is separate from the ipykernel package so we can avoid doing imports until\n"
     ]
    },
    {
     "data": {
      "image/png": "[encoded data removed]",
      "text/plain": [
       "<Figure size 432x288 with 1 Axes>"
      ]
     },
     "metadata": {
      "needs_background": "light"
     },
     "output_type": "display_data"
    }
   ],
   "source": [
    "# Creating empty array to keep track of cost development\n",
    "cost_development = np.zeros((iterations, 1))\n",
    "\n",
    "print(Theta, cost_reg(m, X, y, Theta, lam))\n",
    "\n",
    "\n",
    "# Gradient descent (manual)\n",
    "def grad_descent(m, X, y, Theta, lam, iterations):\n",
    "    for i in range(iterations):\n",
    "        h = (sigmoid(X, Theta) - y) * X\n",
    "        reg = lam/m * np.array(Theta[0,1:3])[np.newaxis]\n",
    "        reg = np.insert(reg, 0, 0, axis = 1)\n",
    "        Theta = Theta - 1/m * np.multiply(alpha, h).sum()\n",
    "        cost_development[0] = [cost_reg(m, X, y, Theta, lam)]\n",
    "        plt.plot(cost_development)\n",
    "    return Theta\n",
    "    \n",
    "Theta = grad_descent(m, X, y, Theta, lam, iterations)\n",
    "print(Theta, cost_reg(m, X, y, Theta, lam))"
   ]
  },
  {
   "cell_type": "code",
   "execution_count": 8,
   "metadata": {},
   "outputs": [
    {
     "name": "stderr",
     "output_type": "stream",
     "text": [
      "/Users/dan/miniconda3/envs/ml/lib/python3.7/site-packages/ipykernel_launcher.py:3: RuntimeWarning: divide by zero encountered in log\n",
      "  This is separate from the ipykernel package so we can avoid doing imports until\n",
      "/Users/dan/miniconda3/envs/ml/lib/python3.7/site-packages/ipykernel_launcher.py:3: RuntimeWarning: invalid value encountered in multiply\n",
      "  This is separate from the ipykernel package so we can avoid doing imports until\n"
     ]
    },
    {
     "name": "stdout",
     "output_type": "stream",
     "text": [
      "[[ 0.40253239 13.93714432 31.40746577]\n",
      " [ 0.40253239 12.19138195 17.66915809]\n",
      " [ 0.40253239 14.42974298 29.34549572]\n",
      " [ 0.40253239 24.22544533 34.74198741]\n",
      " [ 0.40253239 31.81323581 30.32855162]\n",
      " [ 0.40253239 18.14747925 22.6691635 ]\n",
      " [ 0.40253239 24.59741148 38.84897454]\n",
      " [ 0.40253239 30.19988984 18.73949815]\n",
      " [ 0.40253239 30.63222618 35.18961051]\n",
      " [ 0.40253239 33.98694448 17.52360068]\n",
      " [ 0.40253239 38.58738049 15.38691238]\n",
      " [ 0.40253239 30.19542689 12.31880457]\n",
      " [ 0.40253239 33.13125458 30.78646717]\n",
      " [ 0.40253239 27.92149342 39.33493823]\n",
      " [ 0.40253239 15.91546199 30.6072789 ]\n",
      " [ 0.40253239 21.7250964  35.9088475 ]\n",
      " [ 0.40253239 27.80296989 21.22974712]\n",
      " [ 0.40253239 27.35080986 18.78963781]\n",
      " [ 0.40253239 28.44354604 37.40618254]\n",
      " [ 0.40253239 30.98645349 19.15086616]\n",
      " [ 0.40253239 27.119423   17.24385879]\n",
      " [ 0.40253239 36.09780651 26.48637576]\n",
      " [ 0.40253239 20.34188891 19.66604638]\n",
      " [ 0.40253239 13.77146254 17.79576703]\n",
      " [ 0.40253239 31.36697046 27.76360864]\n",
      " [ 0.40253239 25.06609971 28.15893487]\n",
      " [ 0.40253239 32.27914479 18.04215724]\n",
      " [ 0.40253239 37.48155709 15.61852641]\n",
      " [ 0.40253239 24.88866036 20.22971102]\n",
      " [ 0.40253239 15.61254215 26.16286653]\n",
      " [ 0.40253239 24.70715183 29.3075326 ]\n",
      " [ 0.40253239 34.37808497 22.96527124]\n",
      " [ 0.40253239 20.97514941 25.41091302]\n",
      " [ 0.40253239 20.94996096 27.94897485]\n",
      " [ 0.40253239 16.19665284 28.64732342]\n",
      " [ 0.40253239 21.9923994  21.01778007]\n",
      " [ 0.40253239 13.65208718 39.79814987]\n",
      " [ 0.40253239 25.83331646 32.56811467]\n",
      " [ 0.40253239 30.10509644 16.73464603]\n",
      " [ 0.40253239 13.76002218 30.28561908]\n",
      " [ 0.40253239 33.77343071 22.66581219]\n",
      " [ 0.40253239 20.74962683 18.86117432]\n",
      " [ 0.40253239 38.01651417 26.39361446]\n",
      " [ 0.40253239 33.15609098 16.35016316]\n",
      " [ 0.40253239 20.54837332 18.44512135]\n",
      " [ 0.40253239 25.04664214 20.95623531]\n",
      " [ 0.40253239 31.07269653 28.36170736]\n",
      " [ 0.40253239 39.35623514 34.91075726]\n",
      " [ 0.40253239 24.98641848 38.95258567]\n",
      " [ 0.40253239 36.85786766 35.70313027]\n",
      " [ 0.40253239 32.18037831 29.85305739]\n",
      " [ 0.40253239 39.96040713 24.55408549]\n",
      " [ 0.40253239 36.44798488 17.46612248]\n",
      " [ 0.40253239 13.89723494 24.31148384]\n",
      " [ 0.40253239 20.24194327 20.04793984]\n",
      " [ 0.40253239 19.96024349 24.07503975]\n",
      " [ 0.40253239 39.30553002 27.71901317]\n",
      " [ 0.40253239 13.11337811 38.48151147]\n",
      " [ 0.40253239 29.88750289 28.10665126]\n",
      " [ 0.40253239 28.90040118 31.5800996 ]\n",
      " [ 0.40253239 30.34917538 34.52115193]\n",
      " [ 0.40253239 14.20380318 18.92727967]\n",
      " [ 0.40253239 22.64398338 15.80401421]\n",
      " [ 0.40253239 12.09964952 19.9627781 ]\n",
      " [ 0.40253239 17.98042197 26.74831173]\n",
      " [ 0.40253239 26.79291567 16.54090029]\n",
      " [ 0.40253239 16.28547453 39.26107093]\n",
      " [ 0.40253239 19.75329596 20.88467305]\n",
      " [ 0.40253239 32.31512848 37.07969775]\n",
      " [ 0.40253239 26.86771588 24.55101136]\n",
      " [ 0.40253239 13.17200006 17.4325397 ]\n",
      " [ 0.40253239 25.77790044 31.41028156]\n",
      " [ 0.40253239 29.12180694 38.7347226 ]\n",
      " [ 0.40253239 24.336257   29.42310399]\n",
      " [ 0.40253239 23.6853905  30.5354822 ]\n",
      " [ 0.40253239 40.18394579 29.13096765]\n",
      " [ 0.40253239 19.02539902 35.61440104]\n",
      " [ 0.40253239 20.31104346 30.51592364]\n",
      " [ 0.40253239 24.33531932 17.11101148]\n",
      " [ 0.40253239 33.09889428 17.19613464]\n",
      " [ 0.40253239 35.79072287 28.0982857 ]\n",
      " [ 0.40253239 38.17396027 18.39343834]\n",
      " [ 0.40253239 27.09818133 26.80437122]\n",
      " [ 0.40253239 23.04043303 23.95642593]\n",
      " [ 0.40253239 32.35022205 36.61440536]\n",
      " [ 0.40253239 27.56079744 34.45448067]\n",
      " [ 0.40253239 16.93673311 31.73757983]\n",
      " [ 0.40253239 30.38221948 36.39880544]\n",
      " [ 0.40253239 31.65330499 38.90371946]\n",
      " [ 0.40253239 21.07176695 24.46169395]\n",
      " [ 0.40253239 37.87601562 31.05903867]\n",
      " [ 0.40253239 36.40847103 35.22512275]\n",
      " [ 0.40253239 22.3333667  14.31836014]\n",
      " [ 0.40253239 29.98572122 34.15291538]\n",
      " [ 0.40253239 36.16584695 18.25817813]\n",
      " [ 0.40253239 33.60709189 19.47463188]\n",
      " [ 0.40253239 17.01170326 35.06212095]\n",
      " [ 0.40253239 39.97750746 27.68432967]\n",
      " [ 0.40253239 22.27614931 26.13720793]\n",
      " [ 0.40253239 30.09971863 36.0386492 ]] 1014.4977759103789\n"
     ]
    }
   ],
   "source": []
  },
  {
   "cell_type": "code",
   "execution_count": null,
   "metadata": {},
   "outputs": [],
   "source": []
  },
  {
   "cell_type": "code",
   "execution_count": null,
   "metadata": {},
   "outputs": [],
   "source": []
  }
 ],
 "metadata": {
  "kernelspec": {
   "display_name": "Python 3",
   "language": "python",
   "name": "python3"
  },
  "language_info": {
   "codemirror_mode": {
    "name": "ipython",
    "version": 3
   },
   "file_extension": ".py",
   "mimetype": "text/x-python",
   "name": "python",
   "nbconvert_exporter": "python",
   "pygments_lexer": "ipython3",
   "version": "3.7.0"
  }
 },
 "nbformat": 4,
 "nbformat_minor": 2
}
